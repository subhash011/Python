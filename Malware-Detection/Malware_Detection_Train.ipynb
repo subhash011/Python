{
  "nbformat": 4,
  "nbformat_minor": 0,
  "metadata": {
    "kernelspec": {
      "name": "python3",
      "display_name": "Python 3"
    },
    "colab": {
      "name": "Malware_Detection_Train.ipynb",
      "provenance": [],
      "collapsed_sections": []
    }
  },
  "cells": [
    {
      "cell_type": "code",
      "metadata": {
        "id": "XmY0hFSpzS2u",
        "colab_type": "code",
        "colab": {}
      },
      "source": [
        "import numpy as np\n",
        "import pandas as pd\n",
        "import seaborn as sns\n",
        "import os\n",
        "import requests\n",
        "import shutil\n",
        "import random\n",
        "import json\n",
        "import pprint\n",
        "from tqdm import tqdm\n",
        "import re\n",
        "import statistics \n",
        "from collections import defaultdict as dd\n",
        "import sklearn\n",
        "from sklearn import preprocessing\n",
        "import pickle\n",
        "import time\n",
        "from ast import literal_eval \n",
        "from distutils.dir_util import copy_tree"
      ],
      "execution_count": null,
      "outputs": []
    },
    {
      "cell_type": "code",
      "metadata": {
        "id": "ESrZDjIboQEd",
        "colab_type": "code",
        "colab": {}
      },
      "source": [
        "from google.colab import drive\n",
        "drive.mount('/content/drive')"
      ],
      "execution_count": null,
      "outputs": []
    },
    {
      "cell_type": "code",
      "metadata": {
        "id": "Oe5iMdrvoKEV",
        "colab_type": "code",
        "colab": {}
      },
      "source": [
        "dataset_path = \"drive/My Drive/Malware_Analysis_Dataset\"\n",
        "os.listdir(dataset_path)"
      ],
      "execution_count": null,
      "outputs": []
    },
    {
      "cell_type": "code",
      "metadata": {
        "id": "KdfgWNbEQ5G-",
        "colab_type": "code",
        "colab": {}
      },
      "source": [
        "!apt-get install p7zip-full"
      ],
      "execution_count": null,
      "outputs": []
    },
    {
      "cell_type": "code",
      "metadata": {
        "id": "WQya0AZi0Q_y",
        "colab_type": "code",
        "colab": {}
      },
      "source": [
        "# !wget https://mettl-miscellaneous-public.s3.ap-south-1.amazonaws.com/client_public_data/369004/Static_Analysis_Data.7z\n",
        "# !p7zip -d Static_Analysis_Data.7z\n",
        "!p7zip -d /content/drive/My\\ Drive/Malware_Analysis_Dataset/Static_Analysis_Data.7z -o /content/"
      ],
      "execution_count": null,
      "outputs": []
    },
    {
      "cell_type": "code",
      "metadata": {
        "id": "560cWfGczY5-",
        "colab_type": "code",
        "colab": {}
      },
      "source": [
        "# !wget https://mettl-miscellaneous-public.s3.ap-south-1.amazonaws.com/client_public_data/369004/Dynamic_Analysis_Data_Part1.7z\n",
        "# !p7zip -d Dynamic_Analysis_Data_Part1.7z\n",
        "!p7zip -d /content/drive/My\\ Drive/Malware_Analysis_Dataset/Dynamic_Analysis_Dataset_Part1.7z -o /content/"
      ],
      "execution_count": null,
      "outputs": []
    },
    {
      "cell_type": "code",
      "metadata": {
        "id": "wb1qqpU-RBpt",
        "colab_type": "code",
        "colab": {}
      },
      "source": [
        "# !wget https://mettl-miscellaneous-public.s3.ap-south-1.amazonaws.com/client_public_data/369004/Dynamic_Analysis_Dataset_Part2.7z\n",
        "# !p7zip -d Dynamic_Analysis_Dataset_Part2.7z\n",
        "!p7zip -d /content/drive/My\\ Drive/Malware_Analysis_Dataset/Dynamic_Analysis_Dataset_Part2.7z -o /content/"
      ],
      "execution_count": null,
      "outputs": []
    },
    {
      "cell_type": "code",
      "metadata": {
        "id": "23xDp7h3oO7S",
        "colab_type": "code",
        "colab": {}
      },
      "source": [
        "!du -sh static/\n",
        "!du -sh dynamic/"
      ],
      "execution_count": null,
      "outputs": []
    },
    {
      "cell_type": "code",
      "metadata": {
        "id": "D1gdLeiCIvPr",
        "colab_type": "code",
        "colab": {}
      },
      "source": [
        "from google.colab import drive\n",
        "# drive.mount('/content/drive')\n",
        "# drive.flush_and_unmount()"
      ],
      "execution_count": null,
      "outputs": []
    },
    {
      "cell_type": "code",
      "metadata": {
        "id": "l3w2V3fVJbJ7",
        "colab_type": "code",
        "colab": {}
      },
      "source": [
        "!gsutil cp Dynamic_Analysis_Data_Part1.7z Dynamic_Analysis_Data_Part2.7z Static_Analysis_Data.7z drive/My\\ Drive/Malware_Analysis_Dataset"
      ],
      "execution_count": null,
      "outputs": []
    },
    {
      "cell_type": "code",
      "metadata": {
        "id": "2mhtjcrO9sp2",
        "colab_type": "code",
        "colab": {}
      },
      "source": [
        "dyn_analysis_1 = \"/content/Dynamic_Analysis_Data_Part1\"\n",
        "ben_dyn_pth1 = \"/content/Dynamic_Analysis_Data_Part1/Benign\"\n",
        "mal_dyn_pth1 = \"/content/Dynamic_Analysis_Data_Part1/Malware\"\n",
        "\n",
        "dyn_analysis_2 = \"/content/Dynamic_Analysis_Data_Part2\"\n",
        "ben_dyn_pth2 = \"/content/Dynamic_Analysis_Data_Part2/Benign\"\n",
        "mal_dyn_pth2 = \"/content/Dynamic_Analysis_Data_Part2/Malware\"\n",
        "\n",
        "stat_analysis = \"/content/Static_Analysis_Data\"\n",
        "ben_stat_pth = \"/content/Static_Analysis_Data/Benign\"\n",
        "mal_stat_pth = \"/content/Static_Analysis_Data/Malware\"\n",
        "\n",
        "\n",
        "dynamic_analysis = \"/content/dynamic\"\n",
        "static_analysis = \"/content/static\"\n",
        "\n",
        "if os.path.exists(dynamic_analysis):\n",
        "  shutil.rmtree(dynamic_analysis)\n",
        "if os.path.exists(static_analysis):\n",
        "  shutil.rmtree(static_analysis)\n",
        "\n",
        "\n",
        "dynamic_train = os.path.join(dynamic_analysis, \"train\")\n",
        "dynamic_test = os.path.join(dynamic_analysis, \"test\")\n",
        "static_train = os.path.join(static_analysis, \"train\")\n",
        "static_test = os.path.join(static_analysis, \"test\")\n",
        "dynamic_train_benign = os.path.join(dynamic_train, \"benign\")\n",
        "dynamic_train_malware = os.path.join(dynamic_train, \"malware\")\n",
        "dynamic_test_benign = os.path.join(dynamic_test, \"benign\")\n",
        "dynamic_test_malware = os.path.join(dynamic_test, \"malware\")\n",
        "static_train_benign = os.path.join(static_train, \"benign\")\n",
        "static_train_malware = os.path.join(static_train, \"malware\")\n",
        "static_test_benign = os.path.join(static_test, \"benign\")\n",
        "static_test_malware = os.path.join(static_test, \"malware\")\n",
        "\n",
        "dirs = [dynamic_analysis, static_analysis, dynamic_train, dynamic_test, static_train, static_test, dynamic_train_benign,\n",
        "        dynamic_train_malware, dynamic_test_benign,dynamic_test_malware, static_train_benign, static_train_malware,\n",
        "        static_test_benign, static_test_malware]  \n",
        "\n",
        "for dir in dirs:\n",
        "  os.mkdir(dir)"
      ],
      "execution_count": null,
      "outputs": []
    },
    {
      "cell_type": "code",
      "metadata": {
        "id": "yv5jpKAZCGvo",
        "colab_type": "code",
        "colab": {}
      },
      "source": [
        "def moveFiles(CUR_PATH, TO_PATH):\n",
        "  files = os.listdir(CUR_PATH)\n",
        "  [shutil.move(os.path.join(CUR_PATH, file), os.path.join(TO_PATH, file)) for file in files]\n",
        "\n",
        "#merge all malwares to same folder\n",
        "def merge_malwares(malware_dir):\n",
        "  for malware in os.listdir(malware_dir):\n",
        "    malware_path = os.path.join(malware_dir, malware)\n",
        "    moveFiles(malware_path, malware_dir)\n",
        "    os.rmdir(malware_path)\n",
        "\n",
        "def split_train_test(source, train_dir, test_dir, split_size=0.75):\n",
        "  files = os.listdir(source)\n",
        "  random.shuffle(files)\n",
        "  split_index = int(split_size*len(files))\n",
        "  train_files = files[:split_index]\n",
        "  test_files = files[split_index:]\n",
        "  [shutil.move(os.path.join(source, file), train_dir) for file in train_files]\n",
        "  [shutil.move(os.path.join(source, file), test_dir) for file in test_files]\n",
        "  shutil.rmtree(source)"
      ],
      "execution_count": null,
      "outputs": []
    },
    {
      "cell_type": "code",
      "metadata": {
        "id": "QJfASv8A-yWw",
        "colab_type": "code",
        "colab": {}
      },
      "source": [
        "merge_malwares(mal_dyn_pth1)\n",
        "merge_malwares(mal_dyn_pth2)\n",
        "merge_malwares(mal_stat_pth)"
      ],
      "execution_count": null,
      "outputs": []
    },
    {
      "cell_type": "code",
      "metadata": {
        "id": "m3GL2G5ZFx9e",
        "colab_type": "code",
        "colab": {}
      },
      "source": [
        "split_train_test(mal_dyn_pth1, dynamic_train_malware, dynamic_test_malware)\n",
        "split_train_test(ben_dyn_pth1, dynamic_train_benign, dynamic_test_benign)\n",
        "split_train_test(mal_dyn_pth2, dynamic_train_malware, dynamic_test_malware)\n",
        "split_train_test(ben_dyn_pth2, dynamic_train_benign, dynamic_test_benign)\n",
        "split_train_test(mal_stat_pth, static_train_malware, static_test_malware)\n",
        "split_train_test(ben_stat_pth, static_train_benign, static_test_benign)\n",
        "shutil.rmtree(dyn_analysis_1)\n",
        "shutil.rmtree(dyn_analysis_2)\n",
        "shutil.rmtree(stat_analysis)"
      ],
      "execution_count": null,
      "outputs": []
    },
    {
      "cell_type": "code",
      "metadata": {
        "id": "_Y4YRxXS9TAZ",
        "colab_type": "code",
        "colab": {}
      },
      "source": [
        "print(\"Dynamic: \", end=\"\")\n",
        "print(len(os.listdir(dynamic_train_benign)),len(os.listdir(dynamic_test_benign)), len(os.listdir(dynamic_train_malware)),len(os.listdir(dynamic_test_malware)))\n",
        "print(\"Static: \", end=\"\")\n",
        "print(len(os.listdir(static_train_benign)),len(os.listdir(static_test_benign)), len(os.listdir(static_train_malware)),len(os.listdir(static_test_malware)))"
      ],
      "execution_count": null,
      "outputs": []
    },
    {
      "cell_type": "code",
      "metadata": {
        "id": "WAh9R9tWuLwl",
        "colab_type": "code",
        "colab": {}
      },
      "source": [
        "file_features_needed = [\n",
        "  \"files_modified\", \"files_opened\", \"files_copied\", \"files_failed\", \"files_created\", \"files_written\",\n",
        "  \"files_exists\", \"files_deleted\", \"dll_loaded\",\"regkey_read\", \"regkey_opened\", \"regkey_written\",\"regkey_deleted\",\n",
        "  \"directory_enumerated\", \"directory_removed\", \"directory_created\"\n",
        "]\n",
        "file_exts = [\n",
        "  \"bak\", \"bat\", \"bmp\", \"cfg\", \"clb\", \"com\", \"com\", \"dat\", \"db\", \"dll\", \"doc\", \n",
        "  \"docx\", \"exe\", \"ico\", \"ime\", \"inf\", \"ini\", \"jpeg\", \"jpg\", \"js\", \"lnk\", \"log\", \n",
        "  \"otf\", \"pdf\", \"pnf\", \"png\", \"reg\", \"rtf\", \"sav\", \"sys\", \"tmp\", \"txt\", \"xls\", \"xlsx\", \"xml\"\n",
        "]\n",
        "api_calls = [\n",
        "  \"NtOpenSection\", \"NtWaitForSingleObject\", \"GetAsyncKeyState\", \n",
        "  \"NtDeleteValueKey\", \"WSARecv\", \"getaddrinfo\", \"InternetGetConnectedState\", \n",
        "  \"NtCreateEvent\", \"GetFileVersionInfoSizeW\", \"GetAdaptersAddresses\", \n",
        "  \"NtMakeTemporaryObject\", \"NtRenameKey\", \"HttpSendRequestA\", \n",
        "  \"GetLocalTime\", \"NetUserGetLocalGroups\", \"FindFirstFileExW\", \n",
        "  \"CryptRetrieveObjectByUrlW\", \"NtReadVirtualMemory\", \"HttpAddRequestHeadersA\", \n",
        "  \"RegOpenKeyExW\", \"NtDelayExecution\", \"InternetCrackUrlA\", \"SetErrorMode\", \"ShellExecuteExW\", \n",
        "  \"RegOpenKeyExA\", \"HttpSendRequestW\", \"HttpAddRequestHeadersW\", \"GetCursorPos\", \"JsEval\", \n",
        "  \"GetUserNameW\", \"WinHttpSetTimeouts\", \"WaitForDebugEvent\", \"FindWindowExA\", \"GetUserNameA\", \n",
        "  \"NtCreateFile\", \"TransmitFile\", \"GetSystemTimeAsFileTime\", \"WinHttpOpen\", \"NtLoadDriver\", \n",
        "  \"GetDiskFreeSpaceA\", \"NtCreateProcess\", \"NtDeleteKey\", \"WinHttpQueryHeaders\", \n",
        "  \"InternetSetOptionA\", \"CryptGenKey\", \"recvfrom\", \"CryptEncrypt\", \"sendto\", \"NtSuspendThread\",\n",
        "  \"NtQueryInformationFile\", \"RegCreateKeyExW\", \"GetSystemTime\", \"DeviceIoControl\", \n",
        "  \"WSASendTo\", \"FindFirstChangeNotificationW\", \"NtQueryKey\", \"OpenServiceA\", \n",
        "  \"WriteProcessMemory\", \"WSARecvFrom\", \"NtSetContextThread\", \"HttpEndRequestW\", \n",
        "  \"RegQueryValueExA\", \"RemoveDirectoryW\", \"EnumWindows\", \"OpenServiceW\", \"NtSetValueKey\", \n",
        "  \"LookupPrivilegeValueW\", \"NtQueryValueKey\", \"RegCreateKeyExA\", \"RemoveDirectoryA\", \n",
        "  \"HttpEndRequestA\", \"RegQueryValueExW\", \"WSASocketW\", \"NetUserGetInfo\", \"SetWindowsHookExW\",\n",
        "  \"ExitWindowsEx\", \"WSASend\", \"WinHttpGetProxyForUrl\", \"StartServiceA\", \n",
        "  \"NtDeviceIoControlFile\", \"NtReadFile\", \"CryptCreateHash\", \"FindWindowExW\", \"NtWriteFile\"\n",
        "  , \"LdrGetDllHandle\", \"WinHttpSendRequest\", \"RtlDecompressBuffer\", \"NtQuerySystemInformation\", \n",
        "  \"NtEnumerateValueKey\", \"CreateDirectoryExW\", \"CreateThread\", \"NtLoadKey\", \n",
        "  \"SetupDiGetClassDevsA\", \"SetUnhandledExceptionFilter\", \"NtQuerySystemTime\", \n",
        "  \"GetVolumeNameForVolumeMountPointW\", \"DnsQuery_A\", \"CryptDecrypt\", \"recv\", \n",
        "  \"SetupDiGetClassDevsW\", \"NtProtectVirtualMemory\", \"SHGetFolderPathW\", \"RegDeleteValueW\",\n",
        "  \"GetDiskFreeSpaceExA\", \"socket\", \"RegSetValueExW\", \"WriteConsoleA\", \n",
        "  \"LdrGetProcedureAddress\", \"NtOpenThread\", \"CopyFileA\", \"CopyFileW\", \n",
        "  \"RegSetValueExA\", \"GetDiskFreeSpaceExW\", \"NtEnumerateKey\", \"NtOpenDirectoryObject\", \n",
        "  \"LdrLoadDll\", \"NtWriteVirtualMemory\", \"URLDownloadToFileW\", \"WriteConsoleW\",\n",
        "  \"CreateToolhelp32Snapshot\", \"SendNotifyMessageA\", \"RegCloseKey\", \"NtOpenEvent\", \n",
        "  \"NtSetInformationFile\", \"HttpSendRequestExW\", \"NtCreateKey\", \"WinHttpConnect\", \n",
        "  \"MoveFileWithProgressW\", \"ioctlsocket\", \"WSAStartup\", \"NtTerminateThread\",\n",
        "  \"DbgUiWaitStateChange\", \"NtTerminateProcess\", \"send\", \"shutdown\", \n",
        "  \"SendNotifyMessageW\", \"COleScript_ParseScriptText\", \"HttpSendRequestExA\", \n",
        "  \"select\", \"NtQueryFullAttributesFile\", \"CreateRemoteThread\", \"GetSystemMetrics\", \n",
        "  \"NtQueueApcThread\", \"WSASocketA\", \"CreateServiceA\", \"WinHttpSetOption\", \n",
        "  \"InternetCloseHandle\", \"DeleteFileA\", \"NtLoadKey2\", \"CryptExportKey\", \n",
        "  \"CryptImportPublicKeyInfo\", \"NtAllocateVirtualMemory\", \"ReadProcessMemory\", \n",
        "  \"CreateDirectoryW\", \"DeleteFileW\", \"VirtualProtectEx\", \"CreateServiceW\", \"listen\", \n",
        "  \"NtCreateThread\", \"GetComputerNameW\", \"NtResumeThread\", \"CryptAcquireContextA\",\n",
        "  \"setsockopt\", \"InternetReadFile\", \"CoCreateInstance\", \"RegEnumKeyExW\", \"FindNextFileW\",\n",
        "  \"ObtainUserAgentString\", \"CryptAcquireContextW\", \"DnsQuery_W\", \"NtCreateNamedPipeFile\"\n",
        "  , \"GetComputerNameA\", \"NtReplaceKey\", \"RegEnumKeyExA\", \"closesocket\", \n",
        "  \"NtGetContextThread\", \"RtlCreateUserThread\", \"RegEnumValueW\", \"NtCreateSection\", \n",
        "  \"StartServiceW\", \"WinHttpGetIEProxyConfigForCurrentUser\", \"SetWindowsHookExA\",\n",
        "  \"NtOpenMutant\", \"InternetOpenA\", \"NtDeleteFile\", \"NSPStartup\", \"IsDebuggerPresent\", \n",
        "  \"RegEnumValueA\", \"WinHttpReceiveResponse\", \"InternetOpenW\", \"CreateProcessInternalW\", \n",
        "  \"connect\", \"RegDeleteKeyA\", \"NtDuplicateObject\", \"RegNotifyChangeKeyValue\", \n",
        "  \"NtQueryMultipleValueKey\", \"HttpOpenRequestA\", \"OpenSCManagerW\", \"GetSystemInfo\", \n",
        "  \"NtCreateProcessEx\", \"accept\", \"FindWindowW\", \"ControlService\", \"NtClose\",\n",
        "  \"RegDeleteKeyW\", \"CryptHashData\", \"NtOpenProcess\", \"FindWindowA\", \"HttpOpenRequestW\",\n",
        "  \"NtFreeVirtualMemory\", \"Process32NextW\", \"GetLastInputInfo\", \"InternetConnectW\", \n",
        "  \"UnhookWindowsHookEx\", \"InternetWriteFile\", \"GetDiskFreeSpaceW\", \"NtSaveKeyEx\", \n",
        "  \"RegEnumKeyW\", \"InternetConnectA\", \"NtSaveKey\", \"SetWindowLongA\", \n",
        "  \"CDocument_write\", \"WSAConnect\", \"RegDeleteValueA\", \"CopyFileExW\", \n",
        "  \"NtMapViewOfSection\", \"SetupDiGetDeviceRegistryPropertyW\", \"Process32FirstW\", \n",
        "  \"DeleteService\", \"LsaOpenPolicy\", \"NtOpenFile\", \"RegQueryInfoKeyW\",\n",
        "  \"NtUnmapViewOfSection\", \"NtQueryDirectoryFile\", \"NetGetJoinInformation\", \n",
        "  \"FindFirstFileExA\", \"gethostbyname\", \"DecodeImage\", \"NtQueryAttributesFile\", \n",
        "  \"RegQueryInfoKeyA\", \"NtCreateMutant\", \"GetAddrInfoW\", \"InternetOpenUrlA\", \n",
        "  \"WSAAccept\", \"bind\", \"NtOpenKey\", \"InternetCrackUrlW\", \"DnsQuery_UTF8\", \n",
        "  \"CoInternetSetFeatureEnabled\", \"NtResumeProcess\", \"OpenSCManagerA\", \n",
        "  \"GetFileVersionInfoW\", \"CryptDecodeObjectEx\", \"InternetOpenUrlW\", \n",
        "  \"OpenSCManagerA\", \"WinHttpOpenRequest\", \"SetupDiGetDeviceRegistryPropertyA\"\n",
        "]\n",
        "call_categories = [\n",
        "  \"system\", \"filesystem\", \"browser\", \"com\", \"crypto\", \"process\", \"synchronization\", \n",
        "  \"registry\", \"misc\", \"services\", \"windows\", \"device\", \"network\", \"threading\", \n",
        "  \"hooking\", \"__notification__\"\n",
        "]\n",
        "\n",
        "cuckoo_signatures = [\n",
        "  \"recon_beacon\", \"recon_checkip\", \"mimics_agent\", \"antiav_detectreg\", \"packer_upx\",\n",
        "  \"packer_vmprotect\", \"packer_armadillo_regkey\", \"removes_zoneid_ads\", \"antiemu_wine_func\",\n",
        "  \"network_tor\", \"browser_helper_object\", \"disables_wfp\", \"antivirus_virustotal\", \"bootkit\",\n",
        "  \"disables_browser_warn\", \"browser_addon\", \"antiav_avast_libs\", \"disables_system_restore\",\n",
        "  \"antivm_generic_disk_setupapi\", \"antivm_vmware_files\", \"packer_entropy\", \"browser_startpage\", \"recon_fingerprint\",\n",
        "  \"banker_spyeye_mutexes\", \"disables_uac\", \"banker_zeus_mutex\", \"bitcoin_opencl\", \"modify_uac_prompt\",\n",
        "  \"antivm_vmware_devices\", \"infostealer_browser\", \"antisandbox_unhook\", \"antiav_servicestop\",\n",
        "  \"spoofs_procname\", \"infostealer_mail\", \"persistence_ads\", \"persistence_service\", \"stealth_file\",\n",
        "  \"sniffer_winpcap\", \"driver_load\", \"spreading_autoruninf\", \"recon_programs\", \"antiav_detectfile\",\n",
        "  \"rat_xtreme_mutexes\", \"packer_armadillo_mutex\", \"deepfreeze_mutex\", \"injection_createremotethread\", \"modifies_certs\",\n",
        "  \"antivm_generic_services\", \"antivm_generic_diskreg\", \"process_interest\", \"antivm_generic_bios\", \n",
        "  \"antisandbox_sleep\", \"network_icmp\",\"injection_explorer\", \"darkcomet_regkeys\", \"antisandbox_suspend\", \n",
        "  \"network_tor_service\", \"copies_self\", \"pdf_page\", \"antianalysis_detectreg\", \"stealth_hiddenreg\", \"mimics_filetime\",\n",
        "  \"rat_pcclient\",\"reads_self\", \"modify_proxy\", \"stealth_network\", \"antisandbox_mouse_hook\",\n",
        "  \"antisandbox_sunbelt_libs\", \"antisandbox_productid\", \"network_http\", \"stealth_hide_notifications\",\n",
        "  \"antisandbox_sboxie_libs\", \"browser_security\", \"stealth_window\", \"ransomware_recyclebin\", \"deletes_self\", \n",
        "  \"banker_cridex\", \"banker_zeus_p2p\", \"stealth_webhistory\", \"rat_plugx_mutexes\",\"antidbg_devices\", \n",
        "  \"antivm_generic_scsi\", \"exec_crash\", \"antivm_generic_disk\", \"encrypted_ioc\", \"network_bind\", \"dropper\",\n",
        "  \"antivm_generic_cpu\", \"creates_nullvalue\", \"injection_rwx\", \"antidbg_windows\", \"disables_windowsupdate\",\n",
        "  \"rat_poisonivy_mutexes\", \"polymorphic\", \"modify_security_center_warnings\", \"prevents_safeboot\", \"infostealer_im\",\n",
        "  \"infostealer_bitcoin\", \"injection_runpe\", \"rat_spynet\", \"virus\", \"persistence_autorun\", \"infostealer_keylog\",\n",
        "  \"multiple_useragents\", \"bypass_firewall\", \"origin_langid\", \"process_needed\", \"infostealer_ftp\",\n",
        "  \"bot_russkill\", \"rat_fynloski_mutexes\", \"antiemu_wine_reg\", \"stealth_timeout\"\n",
        "]"
      ],
      "execution_count": null,
      "outputs": []
    },
    {
      "cell_type": "code",
      "metadata": {
        "id": "7ZF3nJp_uMKq",
        "colab_type": "code",
        "colab": {}
      },
      "source": [
        "#extract network features\n",
        "def get_network_features(data):\n",
        "  # network_features = []\n",
        "  dns_req_types = [\"A\", \"AAAA\", \"MX\", \"SRV\", \"TXT\", \"PTR\"]\n",
        "  # for file in tqdm(os.listdir(path)[:10]):\n",
        "  file_features = dd(lambda: 0)\n",
        "    # with open(os.path.join(path, file), \"r\") as f:\n",
        "  # data = json.load(f)\n",
        "  network = data[\"network\"]\n",
        "  file_features[\"udp\"] = len(network[\"udp\"])\n",
        "  file_features[\"ips\"] = len(set([ip[\"src\"] for ip in network[\"udp\"]]))\n",
        "  file_features[\"udp_dest_ports\"] = len(set([ip[\"dst\"] for ip in network[\"udp\"]]))\n",
        "  file_features[\"irc\"] = len(network[\"irc\"])\n",
        "  file_features[\"http\"] = len(network[\"http\"])\n",
        "  file_features[\"smtp\"] = len(network[\"smtp\"])\n",
        "  file_features[\"tcp\"] = len(network[\"tcp\"])\n",
        "  file_features[\"icmp\"] = len(network[\"icmp\"])\n",
        "  file_features[\"hosts\"] = len(network[\"hosts\"])\n",
        "  file_features[\"dns\"] = len(network[\"dns\"])\n",
        "  for x in dns_req_types:\n",
        "    file_features[x] = 0\n",
        "  for x in [1,2,3,4]:\n",
        "    key = \"dom_freq_\" + str(x)\n",
        "    file_features[key] = 0\n",
        "  for x in network[\"dns\"]:\n",
        "    file_features[x[\"type\"]] += 1\n",
        "  file_features[\"domains\"] = len(network[\"domains\"])\n",
        "  for x in network[\"domains\"]:\n",
        "    domain_levels = x[\"domain\"].split(\".\")\n",
        "    if len(domain_levels) >= 5:\n",
        "      file_features[\"dom_freq_4\"] += 1\n",
        "    elif len(domain_levels) >= 2:\n",
        "      key = \"dom_freq_\" + str(len(domain_levels) - 1)\n",
        "      file_features[key] += 1\n",
        "  # network_features.append(file_features)\n",
        "  return file_features\n",
        "\n",
        "def get_file_system_features(data):\n",
        "  # filesystem_features = []\n",
        "  # for file in tqdm(os.listdir(path)[:100]):\n",
        "  file_features = dd(lambda: 0)\n",
        "    # with open(os.path.join(path, file), \"r\") as f:\n",
        "  for ext in file_exts:\n",
        "    file_features[\"files_modified_\"+ext] = 0\n",
        "  for ext in file_exts:\n",
        "    file_features[\"files_opened_\"+ext] = 0\n",
        "  for ext in file_exts:\n",
        "    file_features[\"files_created_\"+ext] = 0\n",
        "  for ext in file_exts:\n",
        "    file_features[\"files_deleted_\"+ext] = 0\n",
        "  # data = json.load(f)\n",
        "  behaviour = data[\"behavior\"]\n",
        "  generics = behaviour[\"generic\"]\n",
        "  for generic in generics:\n",
        "    summary = generic[\"summary\"]\n",
        "    parameters = summary.keys()\n",
        "    for x in file_features_needed:\n",
        "      file_features[x] = 0\n",
        "    if \"file_recreated\" in parameters:\n",
        "      file_features[\"files_modified\"] = len(summary[\"file_recreated\"])\n",
        "      for file in summary[\"file_recreated\"]:\n",
        "        ext_split = file.split(\".\")\n",
        "        ext = ext_split[len(ext_split) - 1]\n",
        "        if ext in file_exts:\n",
        "          file_features[\"files_modified_\"+ext] += 1\n",
        "    if \"file_opened\" in parameters:\n",
        "      file_features[\"files_opened\"] = len(summary[\"file_opened\"])\n",
        "      for file in summary[\"file_opened\"]:\n",
        "        ext_split = file.split(\".\")\n",
        "        ext = ext_split[len(ext_split) - 1]\n",
        "        if ext in file_exts:\n",
        "          file_features[\"files_opened_\"+ext] += 1\n",
        "    if \"file_copied\" in parameters:\n",
        "      file_features[\"files_copied\"] = len(summary[\"file_copied\"])\n",
        "    if \"file_failed\" in parameters:\n",
        "      file_features[\"files_failed\"] = len(summary[\"file_failed\"])\n",
        "    if \"file_created\" in parameters:\n",
        "      file_features[\"files_created\"] = len(summary[\"file_created\"])\n",
        "      for file in summary[\"file_created\"]:\n",
        "        ext_split = file.split(\".\")\n",
        "        ext = ext_split[len(ext_split) - 1]\n",
        "        if ext in file_exts:\n",
        "          file_features[\"files_created_\"+ext] += 1\n",
        "    if \"file_written\" in parameters:\n",
        "      file_features[\"files_written\"] = len(summary[\"file_written\"])\n",
        "    if \"file_exists\" in parameters:\n",
        "      file_features[\"files_exists\"] = len(summary[\"file_exists\"])\n",
        "    if \"file_deleted\" in parameters:\n",
        "      file_features[\"files_deleted\"] = len(summary[\"file_deleted\"])\n",
        "      for file in summary[\"file_deleted\"]:\n",
        "        ext_split = file.split(\".\")\n",
        "        ext = ext_split[len(ext_split) - 1]\n",
        "        if ext in file_exts:\n",
        "          file_features[\"files_deleted_\"+ext] += 1\n",
        "    if \"dll_loaded\" in parameters:\n",
        "      file_features[\"dll_loaded\"] = len(summary[\"dll_loaded\"])\n",
        "    if \"regkey_opened\" in parameters:\n",
        "      file_features[\"regkey_opened\"] = len(summary[\"regkey_opened\"])\n",
        "    if \"regkey_read\" in parameters:\n",
        "      file_features[\"regkey_read\"] = len(summary[\"regkey_read\"])\n",
        "    if \"regkey_written\" in parameters:\n",
        "      file_features[\"regkey_written\"] = len(summary[\"regkey_written\"])\n",
        "    if \"regkey_deleted\" in parameters:\n",
        "      file_features[\"regkey_deleted\"] = len(summary[\"regkey_deleted\"])\n",
        "    if \"directory_enumerated\" in parameters:\n",
        "      file_features[\"directory_enumerated\"] = len(summary[\"directory_enumerated\"])\n",
        "    if \"directory_removed\" in parameters:\n",
        "      file_features[\"directory_removed\"] = len(summary[\"directory_removed\"])\n",
        "    if \"directory_created\" in parameters:\n",
        "      file_features[\"directory_created\"] = len(summary[\"directory_created\"])\n",
        "  # filesystem_features.append(file_features)\n",
        "  return file_features\n",
        "\n",
        "def get_processes_features(data):\n",
        "  # processes_features = []\n",
        "  # for file in tqdm(os.listdir(path)[:10]):\n",
        "  file_features = dd(lambda: 0)\n",
        "    # with open(os.path.join(path, file), \"r\") as f:\n",
        "  for x in call_categories:\n",
        "    file_features[\"cat_count_\"+x] = 0\n",
        "    file_features[\"cat_per_\"+x] = 0\n",
        "  for x in api_calls:\n",
        "    file_features[x] = 0\n",
        "  # data = json.load(f)\n",
        "  processes = data[\"behavior\"][\"processes\"]\n",
        "  for process in processes:\n",
        "    if len(process[\"calls\"]) != 0:\n",
        "      totcalls = 0\n",
        "      for call in process[\"calls\"]:\n",
        "        if call[\"category\"] in call_categories:\n",
        "          file_features[\"cat_count_\"+call[\"category\"]] += 1\n",
        "        if call[\"api\"] in api_calls:\n",
        "          file_features[call[\"api\"]] += 1\n",
        "        totcalls += 1\n",
        "      for x in call_categories:\n",
        "        file_features[\"cat_per_\"+x] = file_features[\"cat_count_\"+x]/totcalls\n",
        "  # processes_features.append(file_features)\n",
        "  return file_features\n",
        "\n",
        "def get_misc_features(data):\n",
        "  file_features = dd(lambda: 0)\n",
        "  signatures = data[\"signatures\"]\n",
        "  severity = []\n",
        "  for x in cuckoo_signatures:\n",
        "    file_features[x] = 0\n",
        "  for signature in signatures:\n",
        "    severity.append(signature['severity'])\n",
        "    name = signature[\"name\"]\n",
        "    if name in cuckoo_signatures:\n",
        "      file_features[name] += 1\n",
        "  if len(severity) == 0:\n",
        "    severity = [0]\n",
        "  severity = statistics.mean(severity)\n",
        "  file_features[\"severity\"] = severity\n",
        "  virus_detected_count = 0\n",
        "  total_scans = 0\n",
        "  try:\n",
        "    virus_scans = data['virustotal']['scans']\n",
        "    total_scans = len(virus_scans.keys())\n",
        "    for scanner in virus_scans.keys():\n",
        "      if virus_scans[scanner][\"detected\"] == True:\n",
        "        virus_detected_count += 1\n",
        "  except:\n",
        "    pass\n",
        "  if total_scans == 0:\n",
        "    total_scans = 1\n",
        "  file_features[\"scans_perc\"] = (virus_detected_count/total_scans)*100\n",
        "  generic_behaviour = data[\"behavior\"][\"generic\"]\n",
        "  dll_loaded = 0\n",
        "  for behaviour in generic_behaviour:\n",
        "    try:\n",
        "      dll_loaded += len(behaviour[\"summary\"][\"dll_loaded\"])\n",
        "    except:\n",
        "      pass\n",
        "  file_features[\"dll_loaded\"] = dll_loaded\n",
        "  processes = data[\"behavior\"][\"processes\"]\n",
        "  file_features[\"processes\"] = len(processes)\n",
        "  return file_features\n"
      ],
      "execution_count": null,
      "outputs": []
    },
    {
      "cell_type": "code",
      "metadata": {
        "id": "GqxPlAUYF_z5",
        "colab_type": "code",
        "colab": {}
      },
      "source": [
        "filesystem_features = get_file_system_features(dynamic_train_malware)\n",
        "for x in filesystem_features:\n",
        "  print(len(x.keys()))\n",
        "\n",
        "process_features = get_processes_features(dynamic_train_malware)\n",
        "for x in process_features:\n",
        "  print(len(x.keys()))\n",
        "\n",
        "network_features = get_network_features(dynamic_train_malware)\n",
        "for x in network_features:\n",
        "  print(len(x.keys()))"
      ],
      "execution_count": null,
      "outputs": []
    },
    {
      "cell_type": "code",
      "metadata": {
        "id": "rF3A6bv3uMNy",
        "colab_type": "code",
        "colab": {}
      },
      "source": [
        "def get_features(path):\n",
        "  features_required = []\n",
        "  for file in tqdm(os.listdir(path)):\n",
        "    file_features = dd()\n",
        "    with open(os.path.join(path, file), \"r\") as f:\n",
        "      data = json.load(f)\n",
        "      filesystem_features = get_file_system_features(data)\n",
        "      network_features = get_network_features(data)\n",
        "      process_features = get_processes_features(data)\n",
        "      misc_features = get_misc_features(data)\n",
        "      file_features.update(filesystem_features)\n",
        "      file_features.update(network_features)\n",
        "      file_features.update(process_features)\n",
        "      file_features.update(misc_features)\n",
        "      features_required.append(file_features)\n",
        "  return features_required\n",
        "\n",
        "def get_features_of_file(folder, file):\n",
        "  file_features = dd()\n",
        "  with open(os.path.join(folder, file), \"r\") as f:\n",
        "    data = json.load(f)\n",
        "    filesystem_features = get_file_system_features(data)\n",
        "    network_features = get_network_features(data)\n",
        "    process_features = get_processes_features(data)\n",
        "    misc_features = get_misc_features(data)\n",
        "    file_features.update(filesystem_features)\n",
        "    file_features.update(network_features)\n",
        "    file_features.update(process_features)\n",
        "    file_features.update(misc_features)\n",
        "  return file_features"
      ],
      "execution_count": null,
      "outputs": []
    },
    {
      "cell_type": "code",
      "metadata": {
        "id": "WmDpZ8RzFi2c",
        "colab_type": "code",
        "colab": {}
      },
      "source": [
        "import multiprocessing\n",
        "from joblib import Parallel, delayed\n",
        "\n",
        "malwares = os.listdir(dynamic_train_malware)\n",
        "benigns = os.listdir(dynamic_train_benign)\n",
        "num_cores = multiprocessing.cpu_count()\n",
        "malware_results = Parallel(n_jobs=num_cores)(delayed(get_features_of_file)(dynamic_train_malware, i) for i in tqdm(malwares))\n"
      ],
      "execution_count": null,
      "outputs": []
    },
    {
      "cell_type": "code",
      "metadata": {
        "id": "idpzltV1g22O",
        "colab_type": "code",
        "colab": {}
      },
      "source": [
        "benign_results = Parallel(n_jobs=num_cores)(delayed(get_features_of_file)(dynamic_train_benign, i) for i in tqdm(benigns, position=0, leave=True))"
      ],
      "execution_count": null,
      "outputs": []
    },
    {
      "cell_type": "code",
      "metadata": {
        "id": "tXVNhOWHXrSJ",
        "colab_type": "code",
        "colab": {}
      },
      "source": [
        "with open('dynamic_malware_features.p', 'wb') as fp:\n",
        "    pickle.dump(malware_results, fp, protocol=pickle.HIGHEST_PROTOCOL)\n",
        "with open('dynamic_benign_features.p', 'wb') as fp:\n",
        "    pickle.dump(benign_results, fp, protocol=pickle.HIGHEST_PROTOCOL)"
      ],
      "execution_count": null,
      "outputs": []
    },
    {
      "cell_type": "code",
      "metadata": {
        "id": "yoaBocGDeDuK",
        "colab_type": "code",
        "colab": {}
      },
      "source": [
        "meta_data_features = [\n",
        "  \"NumberOfSections\",\n",
        "  \"TimeDateStamp\",\n",
        "  \"CompileTimeIndicator\", # 1 if timedatestamp > curdate\n",
        "  \"AddressOfEntryPoint\",\n",
        "  \"BaseOfCode\",\n",
        "  \"NumberOfSymbols\",\n",
        "  \"MajorLinkerVersion\",\n",
        "  \"MinorLinkerVersion\",\n",
        "  \"MajorOperatingSystemVersion\",\n",
        "  \"MinorOperatingSystemVersion\",\n",
        "  \"MajorImageVersion\",\n",
        "  \"MinorImageVersion\",\n",
        "  \"CheckSum\",\n",
        "  \"NumberOfDLLs\",\n",
        "  \"NumberOfFunctions\"\n",
        "] \n",
        "\n",
        "dlls_required = [\n",
        "  'kernel32.dll',\n",
        " 'advapi32.dll',\n",
        " 'user32.dll',\n",
        " 'gdi32.dll',\n",
        " 'ws2_32.dll',\n",
        " 'ntdll.dll',\n",
        " 'crypt32.dll',\n",
        " 'shell32.dll',\n",
        " 'wsock32.dll',\n",
        " 'wininet.dll',\n",
        " 'msvcrt.dll'\n",
        "]\n",
        "\n",
        "file_packing_features = [\n",
        "  \"SizeOfRawData\"\n",
        "]\n",
        "\n",
        "function_calls = [\n",
        " 'RegCloseKey',\n",
        " 'RegOpenKey',\n",
        " 'RegQueryValue',\n",
        " 'RegSetValue',\n",
        " 'RtlCreateRegistryKey',\n",
        " 'RtlWriteRegistryValue',\n",
        " 'CheckRemoteDebuggerPresent',\n",
        " 'FindWindow',\n",
        " 'GetLastError',\n",
        " 'IsDebuggerPresent',\n",
        " 'sleep',\n",
        " 'OutputDebugString',\n",
        " 'GetAdaptersInfo',\n",
        " 'FindWindow',\n",
        " 'GetTickCount',\n",
        " 'NtSettInformationProcessDebugActiveProcess',\n",
        " 'QueryPerformanceCounter',\n",
        " 'NtQueryInformationProcess',\n",
        " 'VirtualAllocEx',\n",
        " 'LoadLibrary',\n",
        " 'VirtualFree',\n",
        " 'GetProcAddress',\n",
        " 'LdrLoadDll',\n",
        " 'LoadResourceVirtualProtectEx',\n",
        " 'CommandLineToArg',\n",
        " 'ShellExecute',\n",
        " 'system',\n",
        " 'WinExec',\n",
        " 'SetWindowsHook',\n",
        " 'RegisterHotKey',\n",
        " 'GetKeyState',\n",
        " 'MapVirtualKey',\n",
        " 'listen',\n",
        " 'socket',\n",
        " 'accept',\n",
        " 'bind',\n",
        " 'connect',\n",
        " 'send',\n",
        " 'recv',\n",
        " 'FtpPutFile',\n",
        " 'InternetOpen',\n",
        " 'InternetOpenUrl',\n",
        " 'InternetWriteFile',\n",
        " 'ConnetNamedPipe',\n",
        " 'PeekNamedPike',\n",
        " 'gethostbyname',\n",
        " 'inetaddrInternetReadFie',\n",
        " 'BitBlt',\n",
        " 'GetDC',\n",
        " 'CryptDecrypt',\n",
        " 'CryptGenRandom',\n",
        " 'CryptAcqureContext',\n",
        " 'SetPrivilege',\n",
        " 'LookupPrivilege',\n",
        " 'CreateRemoteThread',\n",
        " 'WriteProcessMemory',\n",
        " 'ReadProcessMemory',\n",
        " 'OpenProcess',\n",
        " 'NtOpenProcess',\n",
        " 'NtReadVirtualMemory',\n",
        " 'NtWriteVirtualMemory',\n",
        " 'CreateFile',\n",
        " 'CreateFileMapping',\n",
        " 'CreateMutex',\n",
        " 'CreateProcess',\n",
        " 'CreateService',\n",
        " 'ControlServiceOpenSCManager',\n",
        " 'StartServiceCtrlDispatcher',\n",
        " 'CreateRemoteThread',\n",
        " 'WriteProcessMemory',\n",
        " 'ReadProcessMemory',\n",
        " 'OpenProcess',\n",
        " 'NtOpenProcess',\n",
        " 'NtReadVirtualMemory',\n",
        " 'NtWriteVirtualMemory',\n",
        " 'MapViewofFile',\n",
        " 'Module32First',\n",
        " 'Module32Next',\n",
        " 'OpenMutex',\n",
        " 'OpenProcess',\n",
        " 'QueueUserAPC',\n",
        " 'SetFileTime',\n",
        " 'SfcTerminateWeatherThread',\n",
        " 'SuspendThread',\n",
        " 'Thread32First',\n",
        " 'Thread32Next',\n",
        " 'WriteProcessMemoryResumeThread',\n",
        " 'DllCanUnloadNow',\n",
        " 'DllGetClassObject',\n",
        " 'DllInstall',\n",
        " 'DllRegisterServer',\n",
        " 'DllUnregisterServer',\n",
        " 'NetScheduleJobAdd',\n",
        " 'FindFirstFile',\n",
        " 'FindNextFile',\n",
        " 'FindResource',\n",
        " 'WSAStartup'\n",
        "]"
      ],
      "execution_count": null,
      "outputs": []
    },
    {
      "cell_type": "code",
      "metadata": {
        "id": "uIvuiXbMXrvr",
        "colab_type": "code",
        "colab": {}
      },
      "source": [
        "def get_dll_and_function(line):\n",
        "  dll_func = line.split()\n",
        "  dll_func = dll_func[0].split(\".\")\n",
        "  dll = \".\".join(dll_func[:2])\n",
        "  function = dll_func[len(dll_func) - 1]\n",
        "  return dll.lower(), function\n",
        "\n",
        "def get_features_static(lines):\n",
        "  file_features = dd(lambda: 0)\n",
        "  dlls = set()\n",
        "  functions = set()\n",
        "  dll_func_regex = re.compile(r'Hint\\[\\d*\\]')\n",
        "  for x in function_calls:\n",
        "    file_features[x] = 0\n",
        "  for x in dlls_required:\n",
        "    file_features[x] = 0\n",
        "  for x in meta_data_features:\n",
        "    file_features[x] = 0\n",
        "  for line in lines:\n",
        "    line = line.replace(\":\",\"\")\n",
        "    params = line.split()\n",
        "    for x in meta_data_features:\n",
        "      if x in line:\n",
        "        value = literal_eval(params[params.index(x) + 1])\n",
        "        file_features[x] = value\n",
        "      elif x == \"CompileTimeIndicator\":\n",
        "        if \"TimeDateStamp\" in line:\n",
        "          now_time = int(time.time()) \n",
        "          value = literal_eval(params[params.index(\"TimeDateStamp\") + 1])\n",
        "          if value > now_time:\n",
        "            file_features[x] = 1\n",
        "          else:\n",
        "            file_features[x] = 0\n",
        "      if dll_func_regex.search((line)):\n",
        "        dll, function = get_dll_and_function(line)\n",
        "        dlls.add(dll)\n",
        "        functions.add(function)\n",
        "        if dll in dlls_required:\n",
        "          file_features[dll] += 1\n",
        "        if function in function_calls:\n",
        "          file_features[function] += 1\n",
        "    file_features[\"NumberOfDLLs\"] = len(dlls)\n",
        "    file_features[\"NumberOfFunctions\"] = len(functions)\n",
        "  return file_features\n",
        "\n",
        "def get_static_file_features(path, folder):\n",
        "  files = os.listdir(os.path.join(path, folder))\n",
        "  file = files[1]\n",
        "  path = os.path.join(path, folder)\n",
        "  with open(os.path.join(path, file)) as f:\n",
        "    lines = f.readlines()\n",
        "    features = get_features_static(lines)\n",
        "    return features"
      ],
      "execution_count": null,
      "outputs": []
    },
    {
      "cell_type": "code",
      "metadata": {
        "id": "36bkv13SLqXA",
        "colab_type": "code",
        "colab": {}
      },
      "source": [
        "dir1 = static_train_malware\n",
        "dir2 = static_train_benign\n",
        "\n",
        "static_benign_features = []\n",
        "static_malware_features = []\n",
        "\n",
        "malwares = os.listdir(dir1)\n",
        "benigns = os.listdir(dir2)"
      ],
      "execution_count": null,
      "outputs": []
    },
    {
      "cell_type": "code",
      "metadata": {
        "id": "zL57pOq_2U--",
        "colab_type": "code",
        "colab": {}
      },
      "source": [
        "for folder in tqdm(benigns,position=0, leave=True):\n",
        "  try:\n",
        "    feats = get_static_file_features(dir2, folder)\n",
        "    static_benign_features.append(feats)\n",
        "  except:\n",
        "    shutil.rmtree(os.path.join(dir2, folder))"
      ],
      "execution_count": null,
      "outputs": []
    },
    {
      "cell_type": "code",
      "metadata": {
        "id": "7NW5QHsbHdRZ",
        "colab_type": "code",
        "colab": {}
      },
      "source": [
        "for folder in tqdm(malwares,position=0, leave=True):\n",
        "  try:\n",
        "    feats = get_static_file_features(dir1, folder)\n",
        "    static_malware_features.append(feats)\n",
        "  except:\n",
        "    shutil.rmtree(os.path.join(dir1, folder))"
      ],
      "execution_count": null,
      "outputs": []
    },
    {
      "cell_type": "code",
      "metadata": {
        "id": "fprvwG-ZQoxr",
        "colab_type": "code",
        "colab": {}
      },
      "source": [
        "with open('static_benign_features.json', 'w') as fp:\n",
        "    json.dump(static_benign_features, fp)\n",
        "with open('static_malware_features.json', 'w') as fp:\n",
        "    json.dump(static_malware_features, fp)"
      ],
      "execution_count": null,
      "outputs": []
    },
    {
      "cell_type": "code",
      "metadata": {
        "id": "cLLzP5fcQ_IM",
        "colab_type": "code",
        "colab": {}
      },
      "source": [
        "if os.path.isdir(\"train_features\") == False:\n",
        "  os.mkdir(\"train_features\")\n",
        "\n",
        "with open('static_benign_features.json', 'r') as fp:\n",
        "    data = json.load(fp)\n",
        "    os.remove('static_benign_features.json')\n",
        "    with open(\"train_features/static_benign_features.p\", \"wb\") as f:\n",
        "      pickle.dump(data, f, protocol=pickle.HIGHEST_PROTOCOL)\n",
        "\n",
        "with open('static_malware_features.json', 'r') as fp:\n",
        "    data = json.load(fp)\n",
        "    os.remove('static_malware_features.json')\n",
        "    with open(\"train_features/static_malware_features.p\", \"wb\") as f:\n",
        "      pickle.dump(data, f, protocol=pickle.HIGHEST_PROTOCOL)"
      ],
      "execution_count": null,
      "outputs": []
    },
    {
      "cell_type": "code",
      "metadata": {
        "id": "W0tgAxRnmRTf",
        "colab_type": "code",
        "colab": {}
      },
      "source": [
        "s1 = os.listdir(static_test_benign)[:5]\n",
        "s2 = os.listdir(static_test_malware)[:5]\n",
        "s3 = os.listdir(dynamic_test_benign)[:5]\n",
        "s4 = os.listdir(dynamic_test_malware)[:5]\n",
        "\n",
        "x = s1 + s3\n",
        "x.sort()\n",
        "print(x)\n",
        "\n",
        "os.mkdir(\"/content/testing\")\n",
        "move_to = \"/content/testing\"\n",
        "\n",
        "for x in s1:\n",
        "  os.mkdir(os.path.join(move_to, x))\n",
        "  copy_tree(os.path.join(static_test_benign, x), os.path.join(move_to, x))\n",
        "\n",
        "for x in s2:\n",
        "  os.mkdir(os.path.join(move_to, x))\n",
        "  copy_tree(os.path.join(static_test_malware, x), os.path.join(move_to, x))\n",
        "\n",
        "for x in s3:\n",
        "  shutil.copy(os.path.join(dynamic_test_benign, x), move_to)\n",
        "\n",
        "for x in s4:\n",
        "  shutil.copy(os.path.join(dynamic_test_malware, x), move_to)\n"
      ],
      "execution_count": null,
      "outputs": []
    },
    {
      "cell_type": "code",
      "metadata": {
        "id": "F68r15XEUTMw",
        "colab_type": "code",
        "colab": {}
      },
      "source": [
        "!zip -r /content/testing.zip /content/testing"
      ],
      "execution_count": null,
      "outputs": []
    },
    {
      "cell_type": "code",
      "metadata": {
        "id": "MpML0y1wnZbC",
        "colab_type": "code",
        "colab": {}
      },
      "source": [
        "!pip install -U scikit-learn"
      ],
      "execution_count": null,
      "outputs": []
    },
    {
      "cell_type": "code",
      "metadata": {
        "id": "h8H1YulILx1N",
        "colab_type": "code",
        "colab": {}
      },
      "source": [
        "static_malware_path = \"static_malware_features.p\"\n",
        "static_benign_path = \"static_benign_features.p\""
      ],
      "execution_count": null,
      "outputs": []
    },
    {
      "cell_type": "code",
      "metadata": {
        "id": "SprETujmMC5E",
        "colab_type": "code",
        "colab": {}
      },
      "source": [
        "with open(static_malware_path, \"rb\") as f:\n",
        "  static_malware_data = pickle.load(f)\n",
        "with open(static_benign_path, \"rb\") as f:\n",
        "  static_benign_data = pickle.load(f)\n",
        "\n",
        "\n",
        "static_malware = pd.DataFrame(static_malware_data)\n",
        "malware_label = [1]*len(static_malware_data)\n",
        "static_malware[\"label\"] = malware_label\n",
        "\n",
        "static_benign = pd.DataFrame(static_benign_data)\n",
        "benign_label = [0]*len(static_benign_data)\n",
        "static_benign[\"label\"] = benign_label\n",
        "\n",
        "static_dataset = pd.concat([static_malware, static_benign], axis=0)\n",
        "static_train_labels = static_dataset[\"label\"]\n",
        "static_train_data = static_dataset.drop([\"label\"], axis=1)"
      ],
      "execution_count": null,
      "outputs": []
    },
    {
      "cell_type": "code",
      "metadata": {
        "id": "HwRt1E5HSi5B",
        "colab_type": "code",
        "colab": {}
      },
      "source": [
        "from sklearn.ensemble import RandomForestClassifier\n",
        "from sklearn.linear_model import SGDClassifier\n",
        "clf = RandomForestClassifier()\n",
        "clf.fit(static_train_data, static_train_labels)\n",
        "\n",
        "with open(\"models/static_model.p\", \"wb\") as f:\n",
        "  pickle.dump(clf,f,protocol=pickle.HIGHEST_PROTOCOL)"
      ],
      "execution_count": null,
      "outputs": []
    },
    {
      "cell_type": "code",
      "metadata": {
        "id": "KJ5i9-Q4TSK2",
        "colab_type": "code",
        "colab": {}
      },
      "source": [
        "test_malwares = os.listdir(static_test_malware)\n",
        "test_benigns = os.listdir(static_test_benign)\n",
        "static_benign_features = []\n",
        "for folder in tqdm(test_benigns,position=0, leave=True):\n",
        "  try:\n",
        "    feats = get_static_file_features(static_test_benign, folder)\n",
        "    static_benign_features.append(feats)\n",
        "  except:\n",
        "    pass\n",
        "static_malware_features = []\n",
        "for folder in tqdm(test_malwares,position=0, leave=True):\n",
        "  try:\n",
        "    feats = get_static_file_features(static_test_malware, folder)\n",
        "    static_malware_features.append(feats)\n",
        "  except:\n",
        "    pass"
      ],
      "execution_count": null,
      "outputs": []
    },
    {
      "cell_type": "code",
      "metadata": {
        "id": "Mx2Fj_NRKceJ",
        "colab_type": "code",
        "colab": {}
      },
      "source": [
        "static_benign_test = pd.DataFrame(static_benign_features)\n",
        "static_malware_test = pd.DataFrame(static_malware_features)\n",
        "static_test_data = pd.concat([static_benign_test, static_malware_test])\n",
        "static_test_labels = np.array([0]*len(static_benign_test) + [1]*len(static_malware_test))\n",
        "\n",
        "if os.path.isdir(\"test_features\") == False:\n",
        "  os.mkdir(\"test_features\")\n",
        "\n",
        "\n",
        "with open(\"test_features/static_test_features.p\", \"wb\") as f:\n",
        "  pickle.dump((static_test_data, static_test_labels),f,protocol=pickle.HIGHEST_PROTOCOL)\n",
        "\n",
        "\n",
        "preds_static = clf.predict(static_test_data.values)\n",
        "print(sklearn.metrics.classification_report(static_test_labels, preds_static))"
      ],
      "execution_count": null,
      "outputs": []
    },
    {
      "cell_type": "code",
      "metadata": {
        "id": "tFmXHKVQgFrD",
        "colab_type": "code",
        "colab": {}
      },
      "source": [
        "dynamic_malware_train_data = []\n",
        "dynamic_benign_train_data = []\n",
        "\n",
        "with open(\"train_features/dynamic_malware_features.p\", \"rb\") as f:\n",
        "  dynamic_malware_train_data = pickle.load(f)\n",
        "with open(\"train_features/dynamic_benign_features.p\", \"rb\") as f:\n",
        "  dynamic_benign_train_data = pickle.load(f)\n",
        "\n",
        "dyn_mal = pd.DataFrame(dynamic_malware_train_data)\n",
        "dyn_ben = pd.DataFrame(dynamic_benign_train_data)\n",
        "dynamic_train_labels = np.array([1]*len(dyn_mal) + [0]*len(dyn_ben))\n",
        "dynamic_train_data = pd.concat([dyn_mal, dyn_ben])"
      ],
      "execution_count": null,
      "outputs": []
    },
    {
      "cell_type": "code",
      "metadata": {
        "id": "XnMmrHougbSL",
        "colab_type": "code",
        "colab": {}
      },
      "source": [
        "from sklearn.ensemble import RandomForestClassifier, AdaBoostClassifier\n",
        "clf1 = RandomForestClassifier()\n",
        "clf1.fit(dynamic_train_data, dynamic_train_labels)\n",
        "\n",
        "with open(\"models/dynamic_model.p\", \"wb\") as f:\n",
        "  pickle.dump(clf1,f,protocol=pickle.HIGHEST_PROTOCOL)"
      ],
      "execution_count": null,
      "outputs": []
    },
    {
      "cell_type": "code",
      "metadata": {
        "id": "6akxyA8AgkJ_",
        "colab_type": "code",
        "colab": {}
      },
      "source": [
        "benf = []\n",
        "for file in tqdm(os.listdir(dynamic_test_benign), position=0, leave=True):\n",
        "  f = get_features_of_file(dynamic_test_benign, file)\n",
        "  benf.append(f)\n",
        "malf = []\n",
        "for file in tqdm(os.listdir(dynamic_test_malware), position=0, leave=True):\n",
        "  f = get_features_of_file(dynamic_test_malware, file)\n",
        "  malf.append(f)"
      ],
      "execution_count": null,
      "outputs": []
    },
    {
      "cell_type": "code",
      "metadata": {
        "id": "zSEkB5vZg9X1",
        "colab_type": "code",
        "colab": {}
      },
      "source": [
        "benign_dynamic_data = pd.DataFrame(benf)\n",
        "malware_dynamic_data = pd.DataFrame(malf)\n",
        "dynamic_test_data = pd.concat([benign_dynamic_data, malware_dynamic_data])\n",
        "dynamic_test_labels = np.array([0]*len(benign_dynamic_data) + [1]*len(malware_dynamic_data))\n",
        "\n",
        "with open(\"test_features/dynamic_test_features.p\", \"wb\") as f:\n",
        "  pickle.dump((dynamic_test_data, dynamic_test_labels),f,protocol=pickle.HIGHEST_PROTOCOL)\n",
        "\n",
        "\n",
        "preds_dynamic = clf1.predict(dynamic_test_data)\n",
        "print(sklearn.metrics.classification_report(dynamic_test_labels, preds_dynamic))"
      ],
      "execution_count": null,
      "outputs": []
    },
    {
      "cell_type": "code",
      "metadata": {
        "id": "qcyJMAAQZ3ZQ",
        "colab_type": "code",
        "colab": {}
      },
      "source": [
        "# dynamic_test_data, dynamic_test_labels\n",
        "# static_test_data, static_test_labels\n",
        "# dynamic_train_data, dynamic_train_labels\n",
        "# static_train_data, static_train_labels"
      ],
      "execution_count": null,
      "outputs": []
    },
    {
      "cell_type": "code",
      "metadata": {
        "id": "6Xd6JSgxZ3mE",
        "colab_type": "code",
        "colab": {}
      },
      "source": [
        "from sklearn.ensemble import RandomForestClassifier\n",
        "from sklearn.svm import SVC"
      ],
      "execution_count": null,
      "outputs": []
    },
    {
      "cell_type": "code",
      "metadata": {
        "id": "F5drtyZDZ3q7",
        "colab_type": "code",
        "colab": {}
      },
      "source": [
        "svc = SVC()\n",
        "svc.fit(dynamic_train_data, dynamic_train_labels)\n",
        "svc.score(dynamic_test_data, dynamic_test_labels)"
      ],
      "execution_count": null,
      "outputs": []
    },
    {
      "cell_type": "code",
      "metadata": {
        "id": "PvI1SahWZ3vk",
        "colab_type": "code",
        "colab": {}
      },
      "source": [
        "rfc = RandomForestClassifier()\n",
        "rfc.fit(dynamic_train_data, dynamic_train_labels)\n",
        "rfc.score(dynamic_test_data, dynamic_test_labels)"
      ],
      "execution_count": null,
      "outputs": []
    },
    {
      "cell_type": "code",
      "metadata": {
        "id": "T1N7ErSXcibm",
        "colab_type": "code",
        "colab": {}
      },
      "source": [
        "def get_score(model, x_train, y_train, x_test, y_test):\n",
        "  model.fit(x_train, y_train)\n",
        "  preds = model.predict(x_test)\n",
        "  return (model.score(x_test, y_test), sklearn.metrics.classification_report(y_true=y_test, y_pred=preds))"
      ],
      "execution_count": null,
      "outputs": []
    },
    {
      "cell_type": "code",
      "metadata": {
        "id": "8HRY3jR6gizW",
        "colab_type": "code",
        "colab": {}
      },
      "source": [
        "from sklearn.metrics import classification_report, accuracy_score, make_scorer\n",
        "\n",
        "def my_scorer(y_true, y_pred):\n",
        "  print(classification_report(y_true, y_pred))\n",
        "  return accuracy_score(y_true, y_pred)"
      ],
      "execution_count": null,
      "outputs": []
    },
    {
      "cell_type": "code",
      "metadata": {
        "id": "UxCgefVVZ4Eu",
        "colab_type": "code",
        "colab": {}
      },
      "source": [
        "from sklearn.model_selection import cross_val_score\n",
        "dynamic_data = pd.concat([dynamic_train_data, dynamic_test_data], axis=0)\n",
        "dynamic_labels = np.concatenate([dynamic_train_labels, dynamic_test_labels])\n",
        "cross_val_score(RandomForestClassifier(), dynamic_data , dynamic_labels , scoring=make_scorer(my_scorer))"
      ],
      "execution_count": null,
      "outputs": []
    },
    {
      "cell_type": "code",
      "metadata": {
        "id": "SgS1umCFZ4Bn",
        "colab_type": "code",
        "colab": {}
      },
      "source": [
        "static_data = pd.concat([static_train_data, static_test_data])\n",
        "static_labels = np.concatenate([static_train_labels, static_test_labels])\n",
        "cross_val_score(RandomForestClassifier(), static_data, static_labels, scoring=make_scorer(my_scorer))"
      ],
      "execution_count": null,
      "outputs": []
    },
    {
      "cell_type": "code",
      "metadata": {
        "id": "EhvlxBDu6rHy",
        "colab_type": "code",
        "colab": {}
      },
      "source": [
        "def get_as_string(a):\n",
        "  b = re.findall(r'\\w+', a)\n",
        "  s = ''\n",
        "  for x in b:\n",
        "    s += '\"' + x + '\", '\n",
        "  return s"
      ],
      "execution_count": null,
      "outputs": []
    },
    {
      "cell_type": "code",
      "metadata": {
        "id": "9X3I_1wZQBrZ",
        "colab_type": "code",
        "colab": {}
      },
      "source": [
        "static_model_path = \"models/static_model.p\"\n",
        "dynamic_model_path = \"models/dynamic_model.p\"\n",
        "\n",
        "\n",
        "dataset_path = \"testing/\"\n",
        "\n",
        "files = os.listdir(dataset_path)\n",
        "\n",
        "\n",
        "def classify_dynamic(file):\n",
        "    try:\n",
        "        file_features = get_features_of_file(dataset_path, file)\n",
        "        data = pd.DataFrame([file_features])\n",
        "        return dynamic_model.predict(data.values.reshape(1, -1))[0]\n",
        "    except:\n",
        "        return random.randint(0, 1)\n",
        "\n",
        "\n",
        "def classify_static(folder):\n",
        "    try:\n",
        "        file_features = get_static_file_features(dataset_path, folder)\n",
        "        data = pd.DataFrame([file_features])\n",
        "        return static_model.predict(data.values.reshape(1, -1))[0]\n",
        "    except:\n",
        "        return random.randint(0, 1)\n",
        "\n",
        "\n",
        "def write_csv(output):\n",
        "    with open(\"output.csv\", 'w') as f:\n",
        "        for key in output.keys():\n",
        "            f.write(\"%s,%s\\n\" % (key, output[key]))\n",
        "\n",
        "\n",
        "def load_models():\n",
        "    with open(static_model_path, \"rb\") as f:\n",
        "        static_model = pickle.load(f)\n",
        "    with open(dynamic_model_path, \"rb\") as f:\n",
        "        dynamic_model = pickle.load(f)\n",
        "\n",
        "    return static_model, dynamic_model\n",
        "\n",
        "\n",
        "output = dd(lambda: \"Benign\")\n",
        "static_model, dynamic_model = load_models()\n",
        "\n",
        "for file in files:\n",
        "    if os.path.isfile(os.path.join(dataset_path, file)):\n",
        "        prediction = classify_dynamic(file)\n",
        "        key = file.split(\".\")[0]\n",
        "        if prediction == 0:\n",
        "            output[key] = \"Benign\"\n",
        "        else:\n",
        "            output[key] = \"Malware\"\n",
        "    else:\n",
        "        prediction = classify_static(file)\n",
        "        key = file.split(\".\")[0]\n",
        "        if prediction == 0:\n",
        "            output[key] = \"Benign\"\n",
        "        else:\n",
        "            output[key] = \"Malware\"\n"
      ],
      "execution_count": null,
      "outputs": []
    }
  ]
}